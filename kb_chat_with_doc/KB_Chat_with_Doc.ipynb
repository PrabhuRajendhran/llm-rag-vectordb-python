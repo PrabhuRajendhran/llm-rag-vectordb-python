{
 "cells": [
  {
   "cell_type": "markdown",
   "id": "645c0cae-c6f6-4855-a265-1083891f7c5c",
   "metadata": {},
   "source": [
    "# Knowledge Bases in Amazon Bedrock now simplifies asking questions on a single document"
   ]
  },
  {
   "cell_type": "markdown",
   "id": "9dc2af87-8356-4e0c-9259-6f583399a4e1",
   "metadata": {},
   "source": [
    "Knowledge Bases for Amazon Bedrock allows you to connect foundation models (FMs) to internal company data sources to deliver more relevant, context-specific, and accurate responses. Knowledge Bases (KB) now provides a real-time, zero-setup, and low-cost method to securely chat with single documents. \n",
    "\n",
    "With Knowledge Bases, you can now securely ask questions of your data without needing to setup a vector database. To get started, simply drag and drop a file (such as a PDF) from your desktop, or indicate the S3 file path, and immediately start chatting with your data. The data you provide is never stored, and you can ask questions of varying granularity, from general Q&A (\"what is the return policy for appliances?\") or summarizing information (\"what are the key takeaways from chapters 1 and 2?\").\n",
    "\n",
    "For more details check out this blog on [Knowledge Bases in Amazon Bedrock now simplifies asking questions on a single document](https://aws.amazon.com/blogs/machine-learning/knowledge-bases-in-amazon-bedrock-now-simplifies-asking-questions-on-a-single-document/)"
   ]
  },
  {
   "cell_type": "markdown",
   "id": "f9001d6e-1ddc-4bf7-b002-c92b9ce221f7",
   "metadata": {},
   "source": [
    "# Importing the `libs`"
   ]
  },
  {
   "cell_type": "code",
   "execution_count": 7,
   "id": "132a2518-8e4c-451b-881a-9a792fb717ce",
   "metadata": {},
   "outputs": [],
   "source": [
    "import boto3\n",
    "\n",
    "bedrock_client = boto3.client(service_name='bedrock-agent-runtime')\n",
    "\n",
    "session = boto3.session.Session()\n",
    "region = session.region_name"
   ]
  },
  {
   "cell_type": "markdown",
   "id": "a1192530-c4c9-424f-af42-d98469e59f01",
   "metadata": {},
   "source": [
    "# API (`retrieve_and_generate`)"
   ]
  },
  {
   "cell_type": "code",
   "execution_count": 2,
   "id": "de9f5f31-74ec-47de-915f-2ef8d02e2beb",
   "metadata": {},
   "outputs": [],
   "source": [
    "def retrieveAndGenerate(input_text, sourceType, model_id, region, document_s3_uri=None, data=None, identifier=None):\n",
    "    model_arn = f'arn:aws:bedrock:{region}::foundation-model/{model_id}'\n",
    "\n",
    "    if sourceType == \"S3\":\n",
    "        return bedrock_client.retrieve_and_generate(\n",
    "            input={'text': input_text},\n",
    "            retrieveAndGenerateConfiguration={\n",
    "                'type': 'EXTERNAL_SOURCES',\n",
    "                'externalSourcesConfiguration': {\n",
    "                    'modelArn': model_arn,\n",
    "                    'sources': [\n",
    "                        {\n",
    "                            \"sourceType\": sourceType,\n",
    "                            \"s3Location\": {\n",
    "                                \"uri\": document_s3_uri  \n",
    "                            }\n",
    "                        }\n",
    "                    ]\n",
    "                }\n",
    "            }\n",
    "        )\n",
    "        \n",
    "    else:\n",
    "        return bedrock_client.retrieve_and_generate(\n",
    "            input={'text': input_text},\n",
    "            retrieveAndGenerateConfiguration={\n",
    "                'type': 'EXTERNAL_SOURCES',\n",
    "                'externalSourcesConfiguration': {\n",
    "                    'modelArn': model_arn,\n",
    "                    'sources': [\n",
    "                        {\n",
    "                            \"sourceType\": sourceType,\n",
    "                            \"byteContent\": {\n",
    "                                \"identifier\": identifier,\n",
    "                                \"contentType\": \"text/plain\",\n",
    "                                \"data\": data  \n",
    "                            }\n",
    "                        }\n",
    "                    ]\n",
    "                }\n",
    "            }\n",
    "        )"
   ]
  },
  {
   "cell_type": "markdown",
   "id": "36bf9766-47fd-4366-a9e0-d26cb6074910",
   "metadata": {},
   "source": [
    "# `Chat` with your document "
   ]
  },
  {
   "cell_type": "code",
   "execution_count": 3,
   "id": "a2387141-2e5b-48f2-b01d-479bf7ed2e72",
   "metadata": {},
   "outputs": [],
   "source": [
    "model_id = \"anthropic.claude-3-sonnet-20240229-v1:0\"    # Replace with your modelID\n",
    "document_uri = \"s3://data-dump-2024/FAQ_Zappos.com.pdf\"  # Replace with your S3 URI"
   ]
  },
  {
   "cell_type": "code",
   "execution_count": 4,
   "id": "33db198a-4ed6-4f83-abc1-8652f20d2929",
   "metadata": {},
   "outputs": [],
   "source": [
    "def my_chatbot(question):\n",
    "    \n",
    "    response = retrieveAndGenerate(\n",
    "                                input_text=question,\n",
    "                                sourceType=\"S3\", \n",
    "                                model_id=model_id,\n",
    "                                region=region,\n",
    "                                document_s3_uri=document_uri\n",
    "                              )\n",
    "\n",
    "    return response"
   ]
  },
  {
   "cell_type": "code",
   "execution_count": 5,
   "id": "9723950b-db59-4454-ac33-76c8b9afa87e",
   "metadata": {},
   "outputs": [
    {
     "name": "stdout",
     "output_type": "stream",
     "text": [
      "Zappos has a very generous refund policy. You can return any item within 365 days of purchase for a full refund, as long as the item is unworn, in the original packaging, and with any attached security tags. To initiate a return, you can log into your Zappos account and process a self-service return, or contact their customer service team for assistance.\n"
     ]
    }
   ],
   "source": [
    "my_question = \"What is your refund policy?\"\n",
    "response = my_chatbot(question=my_question)\n",
    "                    \n",
    "print(response['output']['text'])"
   ]
  },
  {
   "cell_type": "code",
   "execution_count": 6,
   "id": "f6c37821-96b0-4439-94ef-71332e3dcf0b",
   "metadata": {},
   "outputs": [
    {
     "name": "stdout",
     "output_type": "stream",
     "text": [
      "It typically takes about 5-10 business days for your return to arrive at Zappos' fulfillment center and be processed for a refund. Once Zappos receives your qualifying return and approves your refund, they will credit your original method of payment. Depending on your financial institution, please allow an additional 2-10 business days for the credit to post to your bank or credit card account. Some customers may qualify for rapid refunds through Zappos VIP or other perks.\n"
     ]
    }
   ],
   "source": [
    "my_question =  \"How long does it take for me to get a refund?\"\n",
    "response = my_chatbot(question=my_question)\n",
    "                    \n",
    "print(response['output']['text'])"
   ]
  },
  {
   "cell_type": "code",
   "execution_count": null,
   "id": "c1725b1a-4c60-4090-b436-3c8f562f6115",
   "metadata": {},
   "outputs": [],
   "source": []
  }
 ],
 "metadata": {
  "kernelspec": {
   "display_name": "Python 3 (ipykernel)",
   "language": "python",
   "name": "python3"
  },
  "language_info": {
   "codemirror_mode": {
    "name": "ipython",
    "version": 3
   },
   "file_extension": ".py",
   "mimetype": "text/x-python",
   "name": "python",
   "nbconvert_exporter": "python",
   "pygments_lexer": "ipython3",
   "version": "3.11.7"
  }
 },
 "nbformat": 4,
 "nbformat_minor": 5
}
