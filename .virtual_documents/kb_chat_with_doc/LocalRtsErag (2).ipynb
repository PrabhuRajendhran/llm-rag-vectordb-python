import json
import boto3
import requests

from botocore.auth import SigV4Auth
from botocore.awsrequest import AWSRequest


# config
aws_access_key_id = '<your-access-key-id>'
aws_secret_access_key = '<your-secret-access-key>'
aws_session_token = '<your-sesion-token>'
document_uri = '<your-s3-uri>'
custom_prompt = '' # <your-custom-prompt>

default_region = 'us-west-2'
aws_service_name = 'bedrock'
aws_target = 'com.amazon.bedrock.agent.runtimeservice.AmazonBedrockAgentRunTimeService.RetrieveAndGenerate'
endpoint_url = 'https://beta.us-west-2.runtime.bedrock-agent.aws.dev'


# authorization & prepare the request headers
session = boto3.session.Session(
    aws_access_key_id=aws_access_key_id,
    aws_secret_access_key=aws_secret_access_key,
    aws_session_token=aws_session_token,
    region_name=default_region
)
sigv4 = SigV4Auth(session.get_credentials(), aws_service_name, default_region)
headers = {'Content-Type': 'application/json',
           'Content-Encoding': 'amz-1.0',
           'X-Amz-Target': aws_target}

def get_custom_prompt():
    if custom_prompt is None or '':
        return None
    return {
        "promptTemplate": {
            "textPromptTemplate": custom_prompt
        }
    }

def do_request(data_object):
    data = json.dumps(data_object)

    request = AWSRequest(method='POST', url=endpoint_url, data=data, headers=headers)
    sigv4.add_auth(request)
    prepped = request.prepare()

    # request and process response
    response = requests.post(prepped.url, headers=prepped.headers, data=data)
    return json.loads(response.content.decode('utf-8'))





import os
import base64

random_bytes = os.urandom(12)
random_base64 = base64.b64encode(random_bytes).decode('utf-8')

initial_response = do_request({
    "input": {
        "text": "What is the main topic of this document?"
    },
    "retrieveAndGenerateConfiguration": {
        "type": "EXTERNAL_SOURCES",
        "externalSourcesConfiguration": {
            "modelArn": f"arn:aws:bedrock:{default_region}::foundation-model/anthropic.claude-instant-v1",
            "sources": [
                # {
                #     "sourceType": "S3",
                #     "s3Location": {
                #         "uri": document_uri
                #     }
                # }
                # ,
                {
                    "sourceType": "BYTE_CONTENT",
                    "byteContent": {
                        "identifier": "somefile",
                        "contentType": "text/plain",
                        "data": random_base64
                    }
                }
            ]
        }
    }
})

initial_response


do_request({
    "sessionId": initial_response["sessionId"],
    "input": {
        "text": "what was my original question?"
    },
    "retrieveAndGenerateConfiguration": {
        "type": "DOCUMENTS",
        "documentsConfiguration": {
            "modelArn": f"arn:aws:bedrock:{default_region}::foundation-model/anthropic.claude-instant-v1",
            "documents": [
                {
                    "s3Object": {
                        "s3Uri": document_uri
                    }
                }
            ]
        },
        "generationConfiguration": get_custom_prompt()
    }
})



