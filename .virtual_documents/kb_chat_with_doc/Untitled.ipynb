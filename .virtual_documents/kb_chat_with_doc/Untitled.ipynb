








import boto3

bedrock_client = boto3.client(service_name='bedrock-agent-runtime')

session = boto3.session.Session()
region = session.region_name





def retrieveAndGenerate(input_text, sourceType, model_id, region, document_s3_uri=None, data=None, identifier=None):
    model_arn = f'arn:aws:bedrock:{region}::foundation-model/{model_id}'

    if sourceType == "S3":
        return bedrock_client.retrieve_and_generate(
            input={'text': input_text},
            retrieveAndGenerateConfiguration={
                'type': 'EXTERNAL_SOURCES',
                'externalSourcesConfiguration': {
                    'modelArn': model_arn,
                    'sources': [
                        {
                            "sourceType": sourceType,
                            "s3Location": {
                                "uri": document_s3_uri  
                            }
                        }
                    ]
                }
            }
        )
        
    else:
        return bedrock_client.retrieve_and_generate(
            input={'text': input_text},
            retrieveAndGenerateConfiguration={
                'type': 'EXTERNAL_SOURCES',
                'externalSourcesConfiguration': {
                    'modelArn': model_arn,
                    'sources': [
                        {
                            "sourceType": sourceType,
                            "byteContent": {
                                "identifier": identifier,
                                "contentType": "text/plain",
                                "data": data  
                            }
                        }
                    ]
                }
            }
        )





model_id = "anthropic.claude-3-sonnet-20240229-v1:0"    # Replace with your modelID
document_uri = "s3://data-dump-2024/FAQ_Zappos.com.pdf"  # Replace with your S3 URI


def my_chatbot(question):
    
    response = retrieveAndGenerate(
                                input_text=question,
                                sourceType="S3", 
                                model_id=model_id,
                                region=region,
                                document_s3_uri=document_uri
                              )

    return response


my_question = "What is your refund policy?"
response = my_chatbot(question=my_question)
                    
print(response['output']['text'])


my_question =  "How long does it take for me to get a refund?"
response = my_chatbot(question=my_question)
                    
print(response['output']['text'])



